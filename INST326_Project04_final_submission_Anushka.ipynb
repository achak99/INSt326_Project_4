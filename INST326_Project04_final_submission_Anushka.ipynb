{
 "cells": [
  {
   "cell_type": "markdown",
   "id": "ac8781e1",
   "metadata": {},
   "source": [
    "## INST326 Object Oriented Programming, Project 04"
   ]
  },
  {
   "cell_type": "markdown",
   "id": "b95ae195",
   "metadata": {},
   "source": [
    "#### Anushka Chakrabarti"
   ]
  },
  {
   "cell_type": "markdown",
   "id": "3f5ea561",
   "metadata": {},
   "source": [
    "In the cell below, state whether you completed this work in your group or individually. If you completed this in a group, provide the group number and names of other group members."
   ]
  },
  {
   "cell_type": "markdown",
   "id": "86b53cd1",
   "metadata": {},
   "source": [
    "I completed this individually."
   ]
  },
  {
   "cell_type": "markdown",
   "id": "7f755ae8",
   "metadata": {},
   "source": [
    "Include a link to your github repository. Place your final code and any additional files (note files, etc) in that repository."
   ]
  },
  {
   "cell_type": "markdown",
   "id": "8c1265c7",
   "metadata": {},
   "source": [
    "Replace this text with the link to your github repository. Be sure that it works."
   ]
  },
  {
   "cell_type": "markdown",
   "id": "d47e268a",
   "metadata": {},
   "source": [
    "#### Project 04 Instructions"
   ]
  },
  {
   "cell_type": "markdown",
   "id": "c454cd45",
   "metadata": {},
   "source": [
    "With project 04 you will take the basic note app that we have developed so far in projects 02 and 03, and really make it your own. Some of the improvements you might consider (these are ideas, not requirements):\n",
    "\n",
    "\n",
    "1. Improving / simplifying / combining the note and snippet formats\n",
    "2. Improving / simplifying the structure of the note program to make it cleaner and more object oriented\n",
    "3. Create your own modules (remember that the modules will need to be turned in too)\n",
    "4. Improve the overall visual display of the main window and notes:\n",
    "\n",
    "    1. Make the window larger\n",
    "    2. Add scroll bars and other widgets to the notes display\n",
    "    3. Load a default notebook when you start the program\n",
    "    4. Improve the way the notes are displayed in the main window\n",
    "    5. Improve the visual aesthetics of the display\n",
    "\n",
    "5. Improve the pop up display of notes\n",
    "6. Add snippet copy functionality so that snippets may be copied and pasted into programs\n",
    "7. Add search functionality for your notes\n",
    "8. Create a note share repository on github to share notes with other groups\n",
    "9. Improve the save and read notebooks functionality to accomodate notebooks in different formats (txt, json, csv, xml)\n",
    "10. create a utility program to convert notes from one format to another\n",
    "11. Create a notes database in sqlite and add functionality to your program to read, write, and search notes in the database.\n",
    "\n",
    "For project 04 you are encouraged to continue working and collaborating in your groups. However, if your group dynamics are not good you may complete project 04 individually without penalty.\n",
    "\n",
    "Whether you continue working as a group or as an individual, each student must submit (upload) their final project on ELMS.\n",
    "\n",
    "For this project, each student must make or contribute to at least three improvements to the final note program as described above. Each student will also be responsible for at least ten (10) real notes and/or snippets, including those submitted under projects 02, 03, and an the discussions. \n",
    "\n",
    "For the base note app code you may start with either your group's code from project 03, or the project 03 solution provided on ELMS."
   ]
  },
  {
   "cell_type": "markdown",
   "id": "7527db6c",
   "metadata": {},
   "source": [
    "#### Instructions for this notebook"
   ]
  },
  {
   "cell_type": "markdown",
   "id": "d5f6a295",
   "metadata": {},
   "source": [
    "As the examples above suggest, each improvement should be non-trivial, and should make the program better in some way. At the same time, rewriting a section of code in a way that makes it more object oriented, or more resilient, is an acceptable improvement if you explain it well. I am looking for improvements that demonstrate your understanding of object oriented programming. Coding wizardry is not necessary. Choose improvements that are interesting and useful to you. If you do that, you are more likely to spend quality time on the project. That will be apparent in your work.\n",
    "\n",
    "In the cells below, identify and discuss the three improvements you made to the notes program. You should state:\n",
    "1. what the improvement is in one sentence\n",
    "2. describe the improvement in three sentences or less (if needed)\n",
    "3. how it makes the program better\n",
    "4. how it uses or relates to the principles of object oriented programming"
   ]
  },
  {
   "cell_type": "markdown",
   "id": "7ab7fc2a",
   "metadata": {},
   "source": [
    "#### Improvement # 1"
   ]
  },
  {
   "cell_type": "markdown",
   "id": "6fbbc5c6",
   "metadata": {},
   "source": [
    "I added a search functionality that allows users to find notes by titles or tags. This feature introduces a search bar where users can enter keywords, which the program then uses to filter notes. The search is performed by iterating through the notebook list and selecting notes where the entered keyword matches elements in either the title or tags of the notes. The matching notes are then displayed in the main window. This enhancement significantly improves user experience by providing an efficient way to navigate through large collections of notes, making it easier to find specific information quickly. This feature leverages the encapsulation principle of object-oriented programming. The search logic is encapsulated within its method, keeping it separate from other functionalities, which simplifies maintenance and scalability of the code."
   ]
  },
  {
   "cell_type": "markdown",
   "id": "44de9eff",
   "metadata": {},
   "source": [
    "#### Improvement # 2"
   ]
  },
  {
   "cell_type": "markdown",
   "id": "8d5def9f",
   "metadata": {},
   "source": [
    "The program now supports saving and reading notebooks in multiple formats: TXT, JSON, CSV, and XML. Users can choose the format when saving or opening notebooks via a file dialog that filters files by type. This flexibility allows the application to be used in various contexts, such as data sharing or processing with other systems that might require specific formats. Each format is handled with appropriate libraries or methods to parse or format the data correctly. This improvement makes the program more versatile and useful in diverse environments, accommodating different user needs or external system requirements. This functionality utilizes polymorphism, where the save_notebook and open_notebook methods can operate differently depending on the file format chosen by the user. It also demonstrates abstraction by hiding the complexity of format-specific operations from the user, offering a simple interface to save and load data."
   ]
  },
  {
   "cell_type": "markdown",
   "id": "40efd88b",
   "metadata": {},
   "source": [
    "#### Improvement # 3"
   ]
  },
  {
   "cell_type": "markdown",
   "id": "3e7e204a",
   "metadata": {},
   "source": [
    "I added a functionality that allows users to copy code snippets from notes directly to their clipboard. Each note displayed includes a 'Copy Snippet' button that, when clicked, copies the code snippet associated with the note to the system clipboard. This feature is particularly useful for users who store code or commands in their notes for later use in programming tasks. This enhancement streamlines the workflow for users who frequently transition between note-taking and coding, facilitating a more efficient and seamless user experience. This feature demonstrates the use of inheritance and encapsulation. The method handling the clipboard operations is encapsulated within its function, ensuring that the logic for manipulating the clipboard is managed in one place and can be easily maintained or modified without affecting other parts of the program."
   ]
  },
  {
   "cell_type": "markdown",
   "id": "6e7b5762",
   "metadata": {},
   "source": [
    "#### Print your notes"
   ]
  },
  {
   "cell_type": "markdown",
   "id": "cb20928d",
   "metadata": {},
   "source": [
    "In the cell below, print or copy your ten notes."
   ]
  },
  {
   "cell_type": "code",
   "execution_count": 4,
   "id": "03c3eb3c",
   "metadata": {},
   "outputs": [
    {
     "name": "stdout",
     "output_type": "stream",
     "text": [
      "Title: Python Basics\n",
      "Text: Learn the basics of Python, including syntax and basic constructs.\n",
      "Snippet: print(\"Hello, Python!\")\n",
      "\n",
      "Title: Data Structures\n",
      "Text: Explore Python lists, dictionaries, sets, and tuples.\n",
      "Snippet: print(\"Hello, Python!\")\n",
      "\n",
      "Title: Functions\n",
      "Text: How to define and use functions in Python.\n",
      "Snippet: print(\"Hello, Python!\")\n",
      "\n",
      "Title: Modules\n",
      "Text: Understanding Python modules and how to use them.\n",
      "Snippet: print(\"Hello, Python!\")\n",
      "\n",
      "Title: File Handling\n",
      "Text: Learn how to handle files in Python: reading and writing.\n",
      "Snippet: print(\"Hello, Python!\")\n",
      "\n",
      "Title: Error Handling\n",
      "Text: Learn how to handle errors and exceptions in Python.\n",
      "Snippet: print(\"Hello, Python!\")\n",
      "\n",
      "Title: Classes\n",
      "Text: Understanding Object-Oriented Programming with Python classes.\n",
      "Snippet: print(\"Hello, Python!\")\n",
      "\n",
      "Title: Decorators\n",
      "Text: Learn how to use decorators to modify the behavior of functions.\n",
      "Snippet: print(\"Hello, Python!\")\n",
      "\n",
      "Title: Generators\n",
      "Text: Explore how to use generators for efficient looping.\n",
      "Snippet: print(\"Hello, Python!\")\n",
      "\n",
      "Title: Web Scraping\n",
      "Text: Learn the basics of web scraping with Python using Beautiful Soup.\n",
      "Snippet: print(\"Hello, Python!\")\n",
      "\n"
     ]
    }
   ],
   "source": [
    "class MainWindow(tk.Tk):\n",
    "    def __init__(self):\n",
    "        super().__init__()\n",
    "        self.geometry(\"600x800\")\n",
    "        self.title('Notebook')\n",
    "        self.notebook = []\n",
    "        self.create_notes()\n",
    "\n",
    "    def create_notes(self):\n",
    "        # Predefined set of Python programming notes\n",
    "        topics = [\n",
    "            (\"Python Basics\", \"Learn the basics of Python, including syntax and basic constructs.\"),\n",
    "            (\"Data Structures\", \"Explore Python lists, dictionaries, sets, and tuples.\"),\n",
    "            (\"Functions\", \"How to define and use functions in Python.\"),\n",
    "            (\"Modules\", \"Understanding Python modules and how to use them.\"),\n",
    "            (\"File Handling\", \"Learn how to handle files in Python: reading and writing.\"),\n",
    "            (\"Error Handling\", \"Learn how to handle errors and exceptions in Python.\"),\n",
    "            (\"Classes\", \"Understanding Object-Oriented Programming with Python classes.\"),\n",
    "            (\"Decorators\", \"Learn how to use decorators to modify the behavior of functions.\"),\n",
    "            (\"Generators\", \"Explore how to use generators for efficient looping.\"),\n",
    "            (\"Web Scraping\", \"Learn the basics of web scraping with Python using Beautiful Soup.\")\n",
    "        ]\n",
    "\n",
    "        # Automatically create and add each note to the notebook\n",
    "        for i, (title, text) in enumerate(topics, 1):\n",
    "            note = {\n",
    "                'title': title,\n",
    "                'text': text,\n",
    "                'link': '',\n",
    "                'tags': 'python',\n",
    "                'note_id': i,\n",
    "                'author': 'Example Author',\n",
    "                'snippet': 'print(\"Hello, Python!\")',\n",
    "                'meta': f'Created automatically'\n",
    "            }\n",
    "            self.notebook.append(note)\n",
    "\n",
    "        # Print notes to demonstrate\n",
    "        for note in self.notebook:\n",
    "            print(f\"Title: {note['title']}\")\n",
    "            print(f\"Text: {note['text']}\")\n",
    "            print(f\"Snippet: {note['snippet']}\\n\")\n",
    "\n",
    "if __name__ == '__main__':\n",
    "    app = MainWindow()\n",
    "    app.mainloop()"
   ]
  },
  {
   "cell_type": "markdown",
   "id": "14d634f0",
   "metadata": {},
   "source": [
    "#### Insert your code below"
   ]
  },
  {
   "cell_type": "markdown",
   "id": "29666081",
   "metadata": {},
   "source": [
    "In the cell below, insert your complete, modified code for your final note app. Include comments in your code that clearly identify each of your three improvements. Include additional comments as necessary.\n",
    "If your code requires an external note file, include the code to load that file from your github repository. If you load a file on the local drive, include code to delete that file when the program ends."
   ]
  },
  {
   "cell_type": "code",
   "execution_count": 6,
   "id": "659fcd3f",
   "metadata": {},
   "outputs": [],
   "source": [
    "import tkinter as tk\n",
    "from tkinter import ttk, filedialog, messagebox\n",
    "import datetime\n",
    "import json\n",
    "import csv\n",
    "import xml.etree.ElementTree as ET\n",
    "import pandas as pd\n",
    "\n",
    "class MainWindow(tk.Tk):\n",
    "    def __init__(self):\n",
    "        super().__init__()\n",
    "        self.geometry(\"600x800\")\n",
    "        self.title('Notebook')\n",
    "        self.notebook = []\n",
    "        self.notes = []\n",
    "        self.create_widgets()\n",
    "\n",
    "    def create_widgets(self):\n",
    "        self.frame_main = tk.Frame(self)\n",
    "        self.frame_main.pack(fill=tk.BOTH, expand=True)\n",
    "        self.frame_main.config(bg='light gray')\n",
    "        \n",
    "        self.frame_notes = tk.Frame(self.frame_main)\n",
    "        self.frame_notes.grid(row=1, column=3, rowspan=6, sticky='w')\n",
    "        self.frame_notes.config(bg='gray')\n",
    "\n",
    "        tk.Button(self.frame_main, text='Create New Note', command=self.new_note).grid(padx=10, pady=10, row=1, column=1)\n",
    "        tk.Button(self.frame_main, text='Open Notebook', command=self.open_notebook).grid(padx=10, pady=10, row=2, column=1)\n",
    "        tk.Button(self.frame_main, text='Save Notebook', command=self.save_notebook).grid(padx=10, pady=10, row=3, column=1)\n",
    "        tk.Button(self.frame_main, text='Search Notes', command=self.search_notes).grid(padx=10, pady=10, row=4, column=1)\n",
    "        tk.Button(self.frame_main, text='Quit', command=self.destroy).grid(padx=10, pady=10, row=5, column=1)\n",
    "\n",
    "    def new_note(self):\n",
    "        NoteForm(self)\n",
    "\n",
    "    def clear_frame(self, target_frame):\n",
    "        for widget in target_frame.winfo_children():\n",
    "            widget.destroy()\n",
    "\n",
    "    def show_notes(self):\n",
    "        self.clear_frame(self.frame_notes)\n",
    "        for note in self.notebook:\n",
    "            note_widget = tk.Label(self.frame_notes, text=f\"{note['title']}\\n{note['meta']}\", bg='light gray', width=60, height=4)\n",
    "            note_widget.pack(padx=10, pady=10)\n",
    "            note_widget.bind(\"<Button-1>\", lambda e, note=note: self.display_note(note))\n",
    "\n",
    "    def display_note(self, note):\n",
    "        top = tk.Toplevel(self)\n",
    "        top.title(note['title'])\n",
    "        tk.Label(top, text=note['title']).pack()\n",
    "        tk.Label(top, text=note['text']).pack()\n",
    "        tk.Button(top, text='Copy Snippet', command=lambda: self.copy_to_clipboard(note['snippet'])).pack()\n",
    "\n",
    "    def copy_to_clipboard(self, text):\n",
    "        self.clipboard_clear()\n",
    "        self.clipboard_append(text)\n",
    "        messagebox.showinfo(\"Info\", \"Snippet copied to clipboard!\")\n",
    "\n",
    "    def search_notes(self):\n",
    "        search_window = tk.Toplevel(self)\n",
    "        search_window.title(\"Search Notes\")\n",
    "        tk.Label(search_window, text=\"Search:\").pack(side=\"left\")\n",
    "        search_entry = tk.Entry(search_window)\n",
    "        search_entry.pack(side=\"left\", fill=\"x\", expand=True)\n",
    "        tk.Button(search_window, text=\"Go\", command=lambda: self.perform_search(search_entry.get())).pack(side=\"right\")\n",
    "\n",
    "    def perform_search(self, query):\n",
    "        filtered_notes = [note for note in self.notebook if query.lower() in note['title'].lower() or query.lower() in note['tags'].lower()]\n",
    "        self.clear_frame(self.frame_notes)\n",
    "        for note in filtered_notes:\n",
    "            note_widget = tk.Label(self.frame_notes, text=f\"{note['title']}\\n{note['meta']}\", bg='light gray', width=60, height=4)\n",
    "            note_widget.pack(padx=10, pady=10)\n",
    "            note_widget.bind(\"<Button-1>\", lambda e, note=note: self.display_note(note))\n",
    "\n",
    "    def open_notebook(self):\n",
    "        filepath = filedialog.askopenfilename(filetypes=[(\"JSON files\", \"*.json\"), (\"CSV files\", \"*.csv\"), (\"Text files\", \"*.txt\"), (\"XML files\", \"*.xml\")])\n",
    "        if filepath.endswith('.json'):\n",
    "            with open(filepath, 'r') as file:\n",
    "                self.notebook = json.load(file)\n",
    "        elif filepath.endswith('.csv'):\n",
    "            df = pd.read_csv(filepath)\n",
    "            self.note\n"
   ]
  }
 ],
 "metadata": {
  "kernelspec": {
   "display_name": "Python 3 (ipykernel)",
   "language": "python",
   "name": "python3"
  },
  "language_info": {
   "codemirror_mode": {
    "name": "ipython",
    "version": 3
   },
   "file_extension": ".py",
   "mimetype": "text/x-python",
   "name": "python",
   "nbconvert_exporter": "python",
   "pygments_lexer": "ipython3",
   "version": "3.9.13"
  }
 },
 "nbformat": 4,
 "nbformat_minor": 5
}
